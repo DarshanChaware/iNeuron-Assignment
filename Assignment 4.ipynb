{
 "cells": [
  {
   "cell_type": "markdown",
   "id": "14110d61",
   "metadata": {},
   "source": [
    "\n",
    "\n",
    "\n",
    "\n",
    "\n",
    "\n",
    "\n",
    "\n",
    "\n",
    "\n",
    "\n",
    "\n",
    "17. How do you distinguish between copy.copy() and copy.deepcopy()?\n"
   ]
  },
  {
   "cell_type": "code",
   "execution_count": 1,
   "id": "27ea62f1",
   "metadata": {},
   "outputs": [],
   "source": [
    "#1. What exactly is []?\n",
    "#Ans : Empty list without any items"
   ]
  },
  {
   "cell_type": "code",
   "execution_count": 5,
   "id": "615c95f2",
   "metadata": {},
   "outputs": [
    {
     "name": "stdout",
     "output_type": "stream",
     "text": [
      "[2, 4, 'hello', 8, 10]\n"
     ]
    }
   ],
   "source": [
    "#2. In a list of values stored in a variable called spam, how would you assign the value 'hello' as the third value? (Assume [2, 4, 6, 8, 10] are in spam.)\n",
    "spam = [2,4,6,8,10]\n",
    "spam[2]='hello'\n",
    "print(spam)"
   ]
  },
  {
   "cell_type": "code",
   "execution_count": 47,
   "id": "4238f0d6",
   "metadata": {},
   "outputs": [
    {
     "name": "stdout",
     "output_type": "stream",
     "text": [
      "['a', 'b', 'hello', 'hello', 'c', 2, 'd', 100, 100, 100]\n"
     ]
    }
   ],
   "source": [
    "spam.insert(2,\"hello\")\n",
    "print(spam)"
   ]
  },
  {
   "cell_type": "code",
   "execution_count": 31,
   "id": "efbbddc3",
   "metadata": {},
   "outputs": [
    {
     "data": {
      "text/plain": [
       "['a', 'b']"
      ]
     },
     "execution_count": 31,
     "metadata": {},
     "output_type": "execute_result"
    }
   ],
   "source": [
    "#3Let's pretend the spam includes the list ['a', 'b', 'c', 'd'] for the next three queries.\n",
    "#3. What is the value of spam[int(int('3' * 2) / 11)]?\n",
    "#4. What is the value of spam[-1]?\n",
    "#5. What is the value of spam[:2]?\n",
    "\n",
    "spam=['a', 'b', 'c', 'd']\n",
    "spam[int(int('3' * 2) / 11)]\n",
    "spam[-1]\n",
    "spam[:2]"
   ]
  },
  {
   "cell_type": "code",
   "execution_count": 8,
   "id": "bf9f8244",
   "metadata": {},
   "outputs": [
    {
     "data": {
      "text/plain": [
       "'d'"
      ]
     },
     "execution_count": 8,
     "metadata": {},
     "output_type": "execute_result"
    }
   ],
   "source": [
    "spam[int(int('3' * 2) / 11)]"
   ]
  },
  {
   "cell_type": "code",
   "execution_count": 9,
   "id": "ad895679",
   "metadata": {},
   "outputs": [
    {
     "data": {
      "text/plain": [
       "'d'"
      ]
     },
     "execution_count": 9,
     "metadata": {},
     "output_type": "execute_result"
    }
   ],
   "source": [
    "spam[-1]"
   ]
  },
  {
   "cell_type": "code",
   "execution_count": 10,
   "id": "28bb99fd",
   "metadata": {},
   "outputs": [
    {
     "data": {
      "text/plain": [
       "['a', 'b']"
      ]
     },
     "execution_count": 10,
     "metadata": {},
     "output_type": "execute_result"
    }
   ],
   "source": [
    "spam[:2]"
   ]
  },
  {
   "cell_type": "code",
   "execution_count": 14,
   "id": "5b547610",
   "metadata": {},
   "outputs": [],
   "source": [
    "#Let's pretend bacon has the list [3.14, 'cat,' 11, 'cat,' True] for the next three questions.\n",
    "#6. What is the value of bacon.index('cat')?\n",
    "#7. How does bacon.append(99) change the look of the list value in bacon?\n",
    "#8. How does bacon.remove('cat') change the look of the list in bacon?\n",
    "bacon =[3.14, 'cat', 11, 'cat', True]"
   ]
  },
  {
   "cell_type": "code",
   "execution_count": 15,
   "id": "3142e2da",
   "metadata": {},
   "outputs": [
    {
     "data": {
      "text/plain": [
       "1"
      ]
     },
     "execution_count": 15,
     "metadata": {},
     "output_type": "execute_result"
    }
   ],
   "source": [
    "bacon.index('cat')"
   ]
  },
  {
   "cell_type": "code",
   "execution_count": 16,
   "id": "c699990d",
   "metadata": {},
   "outputs": [
    {
     "name": "stdout",
     "output_type": "stream",
     "text": [
      "[3.14, 'cat', 11, 'cat', True, 99]\n"
     ]
    }
   ],
   "source": [
    "bacon.append(99)\n",
    "print(bacon)"
   ]
  },
  {
   "cell_type": "code",
   "execution_count": 17,
   "id": "2ba66f9e",
   "metadata": {},
   "outputs": [
    {
     "name": "stdout",
     "output_type": "stream",
     "text": [
      "[3.14, 11, 'cat', True, 99]\n"
     ]
    }
   ],
   "source": [
    "bacon.remove('cat')\n",
    "print(bacon)"
   ]
  },
  {
   "cell_type": "code",
   "execution_count": 18,
   "id": "b27f345d",
   "metadata": {},
   "outputs": [
    {
     "name": "stdout",
     "output_type": "stream",
     "text": [
      "[3.14, 11, True, 99]\n"
     ]
    }
   ],
   "source": [
    "bacon.remove('cat')\n",
    "print(bacon)"
   ]
  },
  {
   "cell_type": "code",
   "execution_count": 20,
   "id": "1cd890ab",
   "metadata": {},
   "outputs": [
    {
     "data": {
      "text/plain": [
       "['a', 'b', 'c', 'd', 3.14, 11, True, 99]"
      ]
     },
     "execution_count": 20,
     "metadata": {},
     "output_type": "execute_result"
    }
   ],
   "source": [
    "#9. What are the list concatenation and list replication operators?\n",
    "#Ans : The operator for list concatenation is +, while the operator for replication is *. (This is the same as for strings.)\n",
    "\n",
    "spam+bacon"
   ]
  },
  {
   "cell_type": "code",
   "execution_count": 22,
   "id": "cc573197",
   "metadata": {},
   "outputs": [
    {
     "data": {
      "text/plain": [
       "['a', 'b', 'c', 'd', 'a', 'b', 'c', 'd']"
      ]
     },
     "execution_count": 22,
     "metadata": {},
     "output_type": "execute_result"
    }
   ],
   "source": [
    "spam*2"
   ]
  },
  {
   "cell_type": "code",
   "execution_count": 23,
   "id": "72e36c89",
   "metadata": {},
   "outputs": [],
   "source": [
    "#10. What is difference between the list methods append() and insert()?\n",
    "#ans: append() method will add the element at the last of list while insert() method can add elementat specified index level\n"
   ]
  },
  {
   "cell_type": "code",
   "execution_count": 60,
   "id": "71d40271",
   "metadata": {},
   "outputs": [],
   "source": [
    "darsh = ['e','f','g','h']"
   ]
  },
  {
   "cell_type": "code",
   "execution_count": 41,
   "id": "ac75a1db",
   "metadata": {},
   "outputs": [],
   "source": [
    "darsh.append(100)"
   ]
  },
  {
   "cell_type": "code",
   "execution_count": 42,
   "id": "7343ea1a",
   "metadata": {},
   "outputs": [
    {
     "data": {
      "text/plain": [
       "['e', 'f', 'g', 'h', 100]"
      ]
     },
     "execution_count": 42,
     "metadata": {},
     "output_type": "execute_result"
    }
   ],
   "source": [
    "darsh"
   ]
  },
  {
   "cell_type": "code",
   "execution_count": 44,
   "id": "71544a28",
   "metadata": {},
   "outputs": [],
   "source": [
    "darsh.insert(4,'d')"
   ]
  },
  {
   "cell_type": "code",
   "execution_count": 45,
   "id": "196d56ba",
   "metadata": {},
   "outputs": [
    {
     "data": {
      "text/plain": [
       "['e', 'f', 'g', 'h', 'd', 100]"
      ]
     },
     "execution_count": 45,
     "metadata": {},
     "output_type": "execute_result"
    }
   ],
   "source": [
    "darsh"
   ]
  },
  {
   "cell_type": "code",
   "execution_count": 61,
   "id": "1150d127",
   "metadata": {},
   "outputs": [],
   "source": [
    "#11. What are the two methods for removing items from a list?\n",
    "#Ans : Remove() and pop() are two methods. While using remove we can define specific element and while using pop we need to defind index of the particular element.\n",
    "darsh.remove('g')"
   ]
  },
  {
   "cell_type": "code",
   "execution_count": 62,
   "id": "f1fe7788",
   "metadata": {},
   "outputs": [
    {
     "data": {
      "text/plain": [
       "['e', 'f', 'h']"
      ]
     },
     "execution_count": 62,
     "metadata": {},
     "output_type": "execute_result"
    }
   ],
   "source": [
    "darsh"
   ]
  },
  {
   "cell_type": "code",
   "execution_count": 51,
   "id": "2279c51b",
   "metadata": {},
   "outputs": [
    {
     "data": {
      "text/plain": [
       "'f'"
      ]
     },
     "execution_count": 51,
     "metadata": {},
     "output_type": "execute_result"
    }
   ],
   "source": [
    "darsh.pop(1)"
   ]
  },
  {
   "cell_type": "code",
   "execution_count": 52,
   "id": "db433292",
   "metadata": {},
   "outputs": [
    {
     "data": {
      "text/plain": [
       "['e', 'h', 'd', 100]"
      ]
     },
     "execution_count": 52,
     "metadata": {},
     "output_type": "execute_result"
    }
   ],
   "source": [
    "darsh"
   ]
  },
  {
   "cell_type": "code",
   "execution_count": 63,
   "id": "a21251b4",
   "metadata": {},
   "outputs": [],
   "source": [
    "del darsh"
   ]
  },
  {
   "cell_type": "code",
   "execution_count": 64,
   "id": "8e6cdc85",
   "metadata": {},
   "outputs": [
    {
     "ename": "NameError",
     "evalue": "name 'darsh' is not defined",
     "output_type": "error",
     "traceback": [
      "\u001b[1;31m---------------------------------------------------------------------------\u001b[0m",
      "\u001b[1;31mNameError\u001b[0m                                 Traceback (most recent call last)",
      "Input \u001b[1;32mIn [64]\u001b[0m, in \u001b[0;36m<cell line: 1>\u001b[1;34m()\u001b[0m\n\u001b[1;32m----> 1\u001b[0m \u001b[43mdarsh\u001b[49m\n",
      "\u001b[1;31mNameError\u001b[0m: name 'darsh' is not defined"
     ]
    }
   ],
   "source": [
    "darsh"
   ]
  },
  {
   "cell_type": "code",
   "execution_count": 66,
   "id": "deea9629",
   "metadata": {},
   "outputs": [],
   "source": [
    "#12. Describe how list values and string values are identical.\n",
    "#Ans: Both lists and strings can be passed to len() function, have indexes and slices, be used in for loops, be concatenated or replicated, and be used with the in and not in operators."
   ]
  },
  {
   "cell_type": "code",
   "execution_count": 67,
   "id": "d22af693",
   "metadata": {},
   "outputs": [],
   "source": [
    "#13. What's the difference between tuples and lists?\n",
    "#Ans: Lists are Mutable, Indexable and Slicable. they can have values added, removed, or changed. Tuples are Immutable but Indexable and Slicable. the tuple values cannot be changed at all. Also, tuples are represented using parentheses, (), while lists use the square brackets, []."
   ]
  },
  {
   "cell_type": "code",
   "execution_count": 71,
   "id": "f2c9e52b",
   "metadata": {},
   "outputs": [],
   "source": [
    "#14. How do you type a tuple value that only contains the integer 42?\n",
    "\n",
    "tup = (42)\n",
    "tup2 = (42,)"
   ]
  },
  {
   "cell_type": "code",
   "execution_count": 73,
   "id": "b67f1ac7",
   "metadata": {},
   "outputs": [
    {
     "name": "stdout",
     "output_type": "stream",
     "text": [
      "<class 'int'>\n",
      "<class 'tuple'>\n"
     ]
    }
   ],
   "source": [
    "print(type(tup))\n",
    "print(type(tup2))"
   ]
  },
  {
   "cell_type": "code",
   "execution_count": 75,
   "id": "cfadb3ca",
   "metadata": {},
   "outputs": [],
   "source": [
    "#15. How do you get a list value's tuple form? How do you get a tuple value's list form?\n",
    "#ans:by using the tuple() and list() functions\n",
    "dsc = [1,2,3,'a','b']"
   ]
  },
  {
   "cell_type": "code",
   "execution_count": 76,
   "id": "9c62ff94",
   "metadata": {},
   "outputs": [
    {
     "data": {
      "text/plain": [
       "list"
      ]
     },
     "execution_count": 76,
     "metadata": {},
     "output_type": "execute_result"
    }
   ],
   "source": [
    "type(dsc)"
   ]
  },
  {
   "cell_type": "code",
   "execution_count": 77,
   "id": "0227ea28",
   "metadata": {},
   "outputs": [
    {
     "data": {
      "text/plain": [
       "(1, 2, 3, 'a', 'b')"
      ]
     },
     "execution_count": 77,
     "metadata": {},
     "output_type": "execute_result"
    }
   ],
   "source": [
    "tuple(dsc)"
   ]
  },
  {
   "cell_type": "code",
   "execution_count": 78,
   "id": "ab168350",
   "metadata": {},
   "outputs": [
    {
     "data": {
      "text/plain": [
       "[1, 2, 3, 'a', 'b']"
      ]
     },
     "execution_count": 78,
     "metadata": {},
     "output_type": "execute_result"
    }
   ],
   "source": [
    "list(dsc)"
   ]
  },
  {
   "cell_type": "code",
   "execution_count": 79,
   "id": "60d6bcaf",
   "metadata": {},
   "outputs": [],
   "source": [
    "#16. Variables that \"contain\" list values are not necessarily lists themselves. Instead, what do they contain?\n",
    "#Ans: They contain references to list values."
   ]
  },
  {
   "cell_type": "code",
   "execution_count": 80,
   "id": "c34ede57",
   "metadata": {},
   "outputs": [],
   "source": [
    "#17. How do you distinguish between copy.copy() and copy.deepcopy()?\n",
    "#Ans: The copy.copy() function will do a shallow copy of a list, while the copy.deepcopy() function will do a deep copy of a list. That is, only copy.deepcopy() will duplicate any lists inside the list."
   ]
  },
  {
   "cell_type": "code",
   "execution_count": null,
   "id": "2252f1fb",
   "metadata": {},
   "outputs": [],
   "source": []
  }
 ],
 "metadata": {
  "kernelspec": {
   "display_name": "Python 3 (ipykernel)",
   "language": "python",
   "name": "python3"
  },
  "language_info": {
   "codemirror_mode": {
    "name": "ipython",
    "version": 3
   },
   "file_extension": ".py",
   "mimetype": "text/x-python",
   "name": "python",
   "nbconvert_exporter": "python",
   "pygments_lexer": "ipython3",
   "version": "3.9.12"
  }
 },
 "nbformat": 4,
 "nbformat_minor": 5
}
