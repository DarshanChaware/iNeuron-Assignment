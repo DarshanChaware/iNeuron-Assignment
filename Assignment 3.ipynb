{
 "cells": [
  {
   "cell_type": "markdown",
   "id": "3720ad79",
   "metadata": {},
   "source": [
    "1. Why are functions advantageous to have in your programs?\n",
    "2. When does the code in a function run: when it's specified or when it's called?\n",
    "3. What statement creates a function?\n",
    "4. What is the difference between a function and a function call?\n",
    "5. How many global scopes are there in a Python program? How many local scopes?\n",
    "6. What happens to variables in a local scope when the function call returns?\n",
    "7. What is the concept of a return value? Is it possible to have a return value in an expression?\n",
    "8. If a function does not have a return statement, what is the return value of a call to that function?\n",
    "9. How do you make a function variable refer to the global variable?\n",
    "10. What is the data type of None?\n",
    "11. What does the sentence import areallyourpetsnamederic do?\n",
    "12. If you had a bacon() feature in a spam module, what would you call it after importing spam?\n",
    "13. What can you do to save a programme from crashing if it encounters an error?\n",
    "14. What is the purpose of the try clause? What is the purpose of the except clause?\n",
    "\n"
   ]
  },
  {
   "cell_type": "code",
   "execution_count": null,
   "id": "69e0d9ee",
   "metadata": {},
   "outputs": [],
   "source": [
    "#1. Why are functions advantageous to have in your programs?\n",
    "  # Function are used to avoid repeatation of code and reuse/recall the same code written under function just by calling the fuction.\n",
    "  #Creating functions easier and simpler method for efficient coding\n",
    "\n",
    "#2. When does the code in a function run: when it's specified or when it's called?\n",
    "#Ans : Code under function will not run unless its called\n",
    "\n",
    "#3What statement creates a function?\n",
    "#Ans: Function are defined by starting with def \n",
    "\n",
    "def function_name():\n",
    "    function body\n",
    "    return value\n",
    "\n",
    "#4 What is the difference between a function and a function call?\n",
    "Ans: Function is procedure to achive particular result. While we call the function, we are expecting the output by running the code inside that function\n",
    "    \n",
    "#5 How many global scopes are there in a Python program? How many local scopes?\n",
    "#Ans:There is one global scope, and a local scope is created whenever a function is called.\n",
    "\n",
    "#6  What happens to variables in a local scope when the function call returns?\n",
    "#ans :When a function returns, the local scope is destroyed, and all the variables in it are forgotten\n",
    "\n",
    "#7. What is the concept of a return value? Is it possible to have a return value in an expression?\n",
    "Ans: A return value is the value that a function call evaluates. Like any value, a return value can be used as part of an expression.\n",
    "\n",
    "#8. If a function does not have a return statement, what is the return value of a call to that function?\n",
    "Ans: If there is no return statement for a function, its return value is None\n",
    "\n",
    "9. How do you make a function variable refer to the global variable?\n",
    "Ans: A global statement will force a variable in a function to refer to the global variable. If you want to refer to a global variable in a function, you can use the global keyword to declare which variables are global.\n",
    "\n",
    "10. What is the data type of None?\n",
    "Ans: The data type of None is NoneType.\n",
    "\n",
    "11. What does the sentence import areallyourpetsnamederic do?\n",
    "Ans: That import statement imports a module named areallyourpetsnamederic.\n",
    "\n",
    "12. If you had a bacon() feature in a spam module, what would you call it after importing spam?\n",
    "Ans: This function can be called with spam.bacon().\n",
    "\n",
    "13. What can you do to save a programme from crashing if it encounters an error?\n",
    "Ans: Place the line of code that might cause an error in a try clause and use except block to handle the error.(Exception handling)\n",
    "\n",
    "14. What is the purpose of the try clause? What is the purpose of the except clause?\n",
    "ANS:The code that could potentially cause an error goes in the try clause. The code that executes if an error happens goes in the except clause."
   ]
  }
 ],
 "metadata": {
  "kernelspec": {
   "display_name": "Python 3 (ipykernel)",
   "language": "python",
   "name": "python3"
  },
  "language_info": {
   "codemirror_mode": {
    "name": "ipython",
    "version": 3
   },
   "file_extension": ".py",
   "mimetype": "text/x-python",
   "name": "python",
   "nbconvert_exporter": "python",
   "pygments_lexer": "ipython3",
   "version": "3.9.12"
  }
 },
 "nbformat": 4,
 "nbformat_minor": 5
}
