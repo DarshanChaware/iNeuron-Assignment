{
 "cells": [
  {
   "cell_type": "markdown",
   "id": "c9464010",
   "metadata": {},
   "source": [
    "1.\tWrite a Python Program to Find the Factorial of a Number?\n",
    "2.\tWrite a Python Program to Display the multiplication Table?\n",
    "3.\tWrite a Python Program to Print the Fibonacci sequence?\n",
    "4.\tWrite a Python Program to Check Armstrong Number?\n",
    "5.\tWrite a Python Program to Find Armstrong Number in an Interval?\n",
    "6.\tWrite a Python Program to Find the Sum of Natural Numbers?\n"
   ]
  },
  {
   "cell_type": "code",
   "execution_count": 11,
   "id": "3bd4b679",
   "metadata": {},
   "outputs": [],
   "source": [
    "#Write a Python Program to Find the Factorial of a Number?\n",
    "\n",
    "#5 fact= 5*4*3*2*1\n",
    "\n",
    "def fact(n):\n",
    "    if n<1:\n",
    "        return 0\n",
    "    elif n==1:\n",
    "        return 1\n",
    "    else:\n",
    "        f=1\n",
    "        for i in range(1,n+1):\n",
    "            f=f*i\n",
    "        return f\n",
    "            \n",
    "    reuslt=fact(n)      \n",
    "    print(result)    \n",
    "        "
   ]
  },
  {
   "cell_type": "code",
   "execution_count": 13,
   "id": "20313fad",
   "metadata": {},
   "outputs": [
    {
     "data": {
      "text/plain": [
       "120"
      ]
     },
     "execution_count": 13,
     "metadata": {},
     "output_type": "execute_result"
    }
   ],
   "source": [
    "fact(5)"
   ]
  },
  {
   "cell_type": "code",
   "execution_count": 42,
   "id": "7bb110d3",
   "metadata": {},
   "outputs": [
    {
     "name": "stdout",
     "output_type": "stream",
     "text": [
      "enter a number to print a multiplication table : 25\n",
      "Below is table of  25\n",
      "25 x 1 = 25 \n",
      "\n",
      "25 x 2 = 50 \n",
      "\n",
      "25 x 3 = 75 \n",
      "\n",
      "25 x 4 = 100 \n",
      "\n",
      "25 x 5 = 125 \n",
      "\n",
      "25 x 6 = 150 \n",
      "\n",
      "25 x 7 = 175 \n",
      "\n",
      "25 x 8 = 200 \n",
      "\n",
      "25 x 9 = 225 \n",
      "\n",
      "25 x 10 = 250 \n",
      "\n"
     ]
    }
   ],
   "source": [
    "#Write a Python Program to Display the multiplication Table?\n",
    "n = int(input(\"enter a number to print a multiplication table : \"))\n",
    "\n",
    "print(\"Below is table of \", n)\n",
    "def multable(n):\n",
    "    for i in range(1,11):\n",
    "   \n",
    "        print(n, \"x\", i, \"=\", n*i, \"\\n\")\n",
    "multable(n)"
   ]
  },
  {
   "cell_type": "code",
   "execution_count": 3,
   "id": "7d727a56",
   "metadata": {},
   "outputs": [
    {
     "name": "stdout",
     "output_type": "stream",
     "text": [
      "enter a number : 20\n",
      "0\n",
      "1\n",
      "1\n",
      "2\n",
      "3\n",
      "5\n",
      "8\n",
      "13\n",
      "21\n",
      "34\n",
      "55\n",
      "89\n",
      "144\n",
      "233\n",
      "377\n",
      "610\n",
      "987\n",
      "1597\n",
      "2584\n",
      "4181\n"
     ]
    }
   ],
   "source": [
    "#3.\tWrite a Python Program to Print the Fibonacci sequence?\n",
    "\n",
    "n = int(input(\"enter a number : \"))    \n",
    "def fib(n):\n",
    "    a = 0\n",
    "    b = 1\n",
    "    if n < 0:\n",
    "        print(\"Incorrect input\")\n",
    "    elif n==1:\n",
    "        print(a)\n",
    "    else:\n",
    "        print(a)\n",
    "        print(b)\n",
    "        d = [0,1]\n",
    "        for i in range(2,n):\n",
    "            c = a+b\n",
    "            a = b\n",
    "            b = c\n",
    "            print(c)\n",
    "fib(n)   \n",
    "\n",
    " \n",
    "        \n",
    "    "
   ]
  },
  {
   "cell_type": "code",
   "execution_count": null,
   "id": "8bd2cfd5",
   "metadata": {},
   "outputs": [
    {
     "name": "stdout",
     "output_type": "stream",
     "text": [
      "Enter a number: 407\n",
      "407 is a Armstrong Number\n"
     ]
    }
   ],
   "source": [
    "#\n",
    "def checkArmstrongNumber():\n",
    "    in_num = input('Enter a number: ')\n",
    "    sum = 0\n",
    "    for char in range(len(in_num)):\n",
    "        sum = sum + pow(int(in_num[char]),3)\n",
    "    if sum == int(in_num):\n",
    "        print(f'{in_num} is a Armstrong Number')\n",
    "    else:\n",
    "        print(f'{in_num} is a Not Armstrong Number')\n",
    "\n",
    "for x in range(2):\n",
    "    checkArmstrongNumber()"
   ]
  },
  {
   "cell_type": "code",
   "execution_count": null,
   "id": "dfce01ab",
   "metadata": {},
   "outputs": [],
   "source": [
    "n = \"407\"\n",
    "n[0]"
   ]
  },
  {
   "cell_type": "code",
   "execution_count": 48,
   "id": "b7491160",
   "metadata": {},
   "outputs": [
    {
     "name": "stdout",
     "output_type": "stream",
     "text": [
      "enter a number9\n",
      "Entered number  9 is Armstrong number\n"
     ]
    }
   ],
   "source": [
    "#Write a Python Program to Check Armstrong Number?\n",
    "n = input(\"enter a number\")\n",
    "s=int(len(n))\n",
    "#print(s)\n",
    "sum1 = 0\n",
    "for i in range (1,s+1):\n",
    "    b = int(n[i-1])\n",
    "\n",
    "    sum1 = sum1 + (b**s)\n",
    "\n",
    "#print(sum1)\n",
    "if sum1==int(n):\n",
    "    print(\"Entered number \", n, \"is Armstrong number\")\n",
    "else:\n",
    "    print(\"Entered number \", n, \"is NOT Armstrong number\")"
   ]
  },
  {
   "cell_type": "code",
   "execution_count": 49,
   "id": "3f701388",
   "metadata": {},
   "outputs": [
    {
     "name": "stdout",
     "output_type": "stream",
     "text": [
      "enter a number 1: 1000\n",
      "enter number 2 : 10000\n",
      "1634\n",
      "8208\n",
      "9474\n"
     ]
    }
   ],
   "source": [
    "#Write a Python Program to Check Armstrong Number in an interval\n",
    "n1 = int(input(\"enter a number 1: \"))\n",
    "n2 = int(input(\"enter number 2 : \"))\n",
    "#s1=int(len(n1))\n",
    "#s2=int(len(n2))\n",
    "#print(s)\n",
    "\n",
    "for i in range(n1,n2):\n",
    "    s=len(str(i))\n",
    "    sum1 = 0\n",
    "    for j in range (1,s+1):\n",
    "        b = int(str(i)[j-1])\n",
    "        \n",
    "\n",
    "        sum1 = sum1 + (b**s)\n",
    "\n",
    "    if sum1==int(i):\n",
    "        print(i)\n",
    "    "
   ]
  },
  {
   "cell_type": "code",
   "execution_count": 3,
   "id": "d9dd755a",
   "metadata": {},
   "outputs": [
    {
     "name": "stdout",
     "output_type": "stream",
     "text": [
      "Enter the number1 till sum is needed : 2333\n",
      "2722611.0\n"
     ]
    }
   ],
   "source": [
    "#Write a Python Program to Find the Sum of Natural Numbers\n",
    "n = int(input(\"Enter the number1 till sum is needed : \"))\n",
    "\n",
    "sum1=(n)*(n+1)/2\n",
    "print(sum1)"
   ]
  },
  {
   "cell_type": "markdown",
   "id": "a17d42f0",
   "metadata": {},
   "source": []
  }
 ],
 "metadata": {
  "kernelspec": {
   "display_name": "Python 3 (ipykernel)",
   "language": "python",
   "name": "python3"
  },
  "language_info": {
   "codemirror_mode": {
    "name": "ipython",
    "version": 3
   },
   "file_extension": ".py",
   "mimetype": "text/x-python",
   "name": "python",
   "nbconvert_exporter": "python",
   "pygments_lexer": "ipython3",
   "version": "3.9.12"
  }
 },
 "nbformat": 4,
 "nbformat_minor": 5
}
