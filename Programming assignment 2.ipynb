{
 "cells": [
  {
   "cell_type": "markdown",
   "id": "520337dd",
   "metadata": {},
   "source": [
    "1.\tWrite a Python program to convert kilometers to miles?\n",
    "2.\tWrite a Python program to convert Celsius to Fahrenheit?\n",
    "3.\tWrite a Python program to display calendar?\n",
    "4.\tWrite a Python program to solve quadratic equation?\n",
    "5.\tWrite a Python program to swap two variables without temp variable?\n"
   ]
  },
  {
   "cell_type": "code",
   "execution_count": 6,
   "id": "40df0b56",
   "metadata": {},
   "outputs": [
    {
     "name": "stdout",
     "output_type": "stream",
     "text": [
      "Enter the number of km : 12\n",
      "12.0 KM is equal to :  7.4564520000000005 miles\n"
     ]
    }
   ],
   "source": [
    "#1 Write a Python program to convert kilometers to miles?\n",
    "try:\n",
    "    a = float(input(\"Enter the number of km : \"))\n",
    "    print(a, \"KM is equal to : \", a*0.621371, \"miles\")\n",
    "except:\n",
    "    print(\"give input in integer or float\")\n"
   ]
  },
  {
   "cell_type": "code",
   "execution_count": 12,
   "id": "bde8eff0",
   "metadata": {},
   "outputs": [
    {
     "name": "stdout",
     "output_type": "stream",
     "text": [
      "enter temp12\n"
     ]
    }
   ],
   "source": [
    "def fahrn(a):\n",
    "    print(a, \"Cel to fahrenheight is : \", a*9/5+32)"
   ]
  },
  {
   "cell_type": "code",
   "execution_count": 13,
   "id": "46fb58d1",
   "metadata": {},
   "outputs": [
    {
     "name": "stdout",
     "output_type": "stream",
     "text": [
      "12 Cel to fahrenheight is :  53.6\n"
     ]
    }
   ],
   "source": [
    "fahrn(12)"
   ]
  },
  {
   "cell_type": "code",
   "execution_count": 17,
   "id": "fe19ac72",
   "metadata": {},
   "outputs": [
    {
     "name": "stdout",
     "output_type": "stream",
     "text": [
      "Enter the temp in Cel : 54\n",
      "54.0 Cel to fahrenheight :  129.2\n"
     ]
    }
   ],
   "source": [
    "try:\n",
    "    a = float(input(\"Enter the temp in Cel : \"))\n",
    "    print(a, \"Cel to fahrenheight : \", a*9/5+32)\n",
    "except:\n",
    "    print(\"give input in integer or float\")"
   ]
  },
  {
   "cell_type": "code",
   "execution_count": 24,
   "id": "91647a01",
   "metadata": {},
   "outputs": [
    {
     "name": "stdout",
     "output_type": "stream",
     "text": [
      "year: 2022\n",
      "month: 6\n",
      "     June 2022\n",
      "Mo Tu We Th Fr Sa Su\n",
      "       1  2  3  4  5\n",
      " 6  7  8  9 10 11 12\n",
      "13 14 15 16 17 18 19\n",
      "20 21 22 23 24 25 26\n",
      "27 28 29 30\n",
      "\n"
     ]
    }
   ],
   "source": [
    "#Write a Python program to display calendar\n",
    "\n",
    "import calendar\n",
    "y = int(input(\"year: \"))\n",
    "m = int(input(\"month: \"))\n",
    "print(calendar.month(y,m))"
   ]
  },
  {
   "cell_type": "code",
   "execution_count": null,
   "id": "5279837f",
   "metadata": {},
   "outputs": [],
   "source": [
    "#Write a Python program to solve quadratic equation?\n"
   ]
  },
  {
   "cell_type": "code",
   "execution_count": 3,
   "id": "3dd8e109",
   "metadata": {},
   "outputs": [
    {
     "name": "stdout",
     "output_type": "stream",
     "text": [
      "Enter a value: 1\n",
      "Enter b value: 3\n",
      "Enter c value: 1\n",
      "Roots are Real and different -2.618033988749895 -0.3819660112501051\n"
     ]
    }
   ],
   "source": [
    "import cmath\n",
    "import math\n",
    "\n",
    "def quadarticEquationRoots(a,b,c):\n",
    "    \n",
    "    discriminant = b*b-4*a*c\n",
    "    \n",
    "    if discriminant == 0:\n",
    "        r1 = -b/2*a\n",
    "        r2 = -b/2*a\n",
    "        print(\"Roots are Real\",r1,r2)\n",
    "    elif discriminant > 0:\n",
    "        r1 = (-b-math.sqrt(discriminant))/(2 * a)\n",
    "        r2 = (-b+math.sqrt(discriminant))/(2 * a)\n",
    "        print(\"Roots are Real and different\",r1,r2)\n",
    "    else:\n",
    "        r1 = (-b-cmath.sqrt(discriminant))/(2 * a)\n",
    "        r2 = (-b+cmath.sqrt(discriminant))/(2 * a)\n",
    "        print(\"Roots are Imaginary\",r1,r2)\n",
    "\n",
    "\n",
    "a = int(input('Enter a value: '))\n",
    "b = int(input('Enter b value: '))\n",
    "c = int(input('Enter c value: '))\n",
    "\n",
    "quadarticEquationRoots(a,b,c)"
   ]
  },
  {
   "cell_type": "code",
   "execution_count": 9,
   "id": "919d11f1",
   "metadata": {},
   "outputs": [
    {
     "name": "stdout",
     "output_type": "stream",
     "text": [
      "enter 1st number : 12\n",
      "enter 2nd number : 2\n",
      "swapped numbers are: 2 12\n"
     ]
    }
   ],
   "source": [
    "#Write a Python program to swap two variables without temp variable?\n",
    "a = int(input(\"enter 1st number : \"))\n",
    "b = int(input ( \"enter 2nd number : \"))\n",
    "def swap(a,b):\n",
    "    a = a+b\n",
    "    b = a-b   \n",
    "    a = a-b\n",
    "    print(\"swapped numbers are:\", a, b)\n",
    "swap(a,b)\n",
    "    "
   ]
  },
  {
   "cell_type": "code",
   "execution_count": 7,
   "id": "6551bbe9",
   "metadata": {},
   "outputs": [
    {
     "name": "stdout",
     "output_type": "stream",
     "text": [
      "swapped numbers are: 2 12\n"
     ]
    }
   ],
   "source": [
    "swap(12,2)"
   ]
  },
  {
   "cell_type": "code",
   "execution_count": 8,
   "id": "f697d44a",
   "metadata": {},
   "outputs": [
    {
     "name": "stdout",
     "output_type": "stream",
     "text": [
      "swapped numbers are: 4 3\n"
     ]
    }
   ],
   "source": [
    "swap(3,4\n",
    ")"
   ]
  },
  {
   "cell_type": "code",
   "execution_count": 10,
   "id": "69115f9e",
   "metadata": {},
   "outputs": [
    {
     "name": "stdout",
     "output_type": "stream",
     "text": [
      "swapped numbers are: 5 34\n"
     ]
    }
   ],
   "source": [
    "swap(34,5)"
   ]
  },
  {
   "cell_type": "code",
   "execution_count": null,
   "id": "bec2776e",
   "metadata": {},
   "outputs": [],
   "source": []
  }
 ],
 "metadata": {
  "kernelspec": {
   "display_name": "Python 3 (ipykernel)",
   "language": "python",
   "name": "python3"
  },
  "language_info": {
   "codemirror_mode": {
    "name": "ipython",
    "version": 3
   },
   "file_extension": ".py",
   "mimetype": "text/x-python",
   "name": "python",
   "nbconvert_exporter": "python",
   "pygments_lexer": "ipython3",
   "version": "3.9.12"
  }
 },
 "nbformat": 4,
 "nbformat_minor": 5
}
