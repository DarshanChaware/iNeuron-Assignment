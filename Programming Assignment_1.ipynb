{
 "cells": [
  {
   "cell_type": "markdown",
   "id": "ed98e7ca",
   "metadata": {},
   "source": [
    "1.\tWrite a Python program to print \"Hello Python\"?\n",
    "2.\tWrite a Python program to do arithmetical operations addition and division.?\n",
    "3.\tWrite a Python program to find the area of a triangle?\n",
    "4.\tWrite a Python program to swap two variables?\n",
    "5.\tWrite a Python program to generate a random number?\n"
   ]
  },
  {
   "cell_type": "code",
   "execution_count": 2,
   "id": "7a51953f",
   "metadata": {},
   "outputs": [
    {
     "name": "stdout",
     "output_type": "stream",
     "text": [
      "Hello Python\n"
     ]
    }
   ],
   "source": [
    "#Write a Python program to print \"Hello Python\"?\n",
    "print(\"Hello Python\")"
   ]
  },
  {
   "cell_type": "code",
   "execution_count": 13,
   "id": "09585d35",
   "metadata": {},
   "outputs": [
    {
     "name": "stdout",
     "output_type": "stream",
     "text": [
      "Enter first number : 12\n",
      "Enter second number : 4\n",
      "Sum of two numbers is :  16\n",
      "Division of two numbers is :  3.0\n"
     ]
    }
   ],
   "source": [
    "#Write a Python program to do arithmetical operations addition and division.?\n",
    "try:    \n",
    "    a = int(input(\"Enter first number : \"))\n",
    "    b = int(input (\"Enter second number : \"))\n",
    "except:\n",
    "    pass\n",
    "try:\n",
    "    print(\"Sum of two numbers is : \", a+b)\n",
    "    print(\"Division of two numbers is : \", a/b)\n",
    "except:\n",
    "    print(\"enter both number in integer\")"
   ]
  },
  {
   "cell_type": "markdown",
   "id": "0a844b10",
   "metadata": {},
   "source": [
    "#"
   ]
  },
  {
   "cell_type": "code",
   "execution_count": 14,
   "id": "50a9564c",
   "metadata": {},
   "outputs": [
    {
     "name": "stdout",
     "output_type": "stream",
     "text": [
      "Please enter the base of your triangle: 12\n",
      "Please enter the height of your triangle: 5\n",
      "The area of your triangle is :  30.0\n"
     ]
    }
   ],
   "source": [
    "# Write a Python program to find the area of a triangle?\n",
    "base = float(input('Please enter the base of your triangle: '))\n",
    "height = float(input('Please enter the height of your triangle: '))\n",
    "print(\"The area of your triangle is : \", (base*height/2))"
   ]
  },
  {
   "cell_type": "code",
   "execution_count": 8,
   "id": "53a1519f",
   "metadata": {},
   "outputs": [
    {
     "name": "stdout",
     "output_type": "stream",
     "text": [
      "enter value of a : 45\n",
      "enter value of b : 566\n",
      "The value of a is now :  566\n",
      "The value of b is now :  45\n"
     ]
    }
   ],
   "source": [
    "#Write a Python program to swap two variables?\n",
    "\n",
    "a = input(\"enter value of a : \")\n",
    "b = input(\"enter value of b : \")\n",
    "c = a\n",
    "d = b\n",
    "a = d\n",
    "b = c\n",
    "print(\"The value of a is now : \", a)\n",
    "print(\"The value of b is now : \", b)"
   ]
  },
  {
   "cell_type": "code",
   "execution_count": 15,
   "id": "ed97c3bb",
   "metadata": {},
   "outputs": [
    {
     "data": {
      "text/plain": [
       "23821606771537495"
      ]
     },
     "execution_count": 15,
     "metadata": {},
     "output_type": "execute_result"
    }
   ],
   "source": [
    "#Write a Python program to generate a random number?\n",
    "import random\n",
    "random.randint(0,100000000000000000)"
   ]
  },
  {
   "cell_type": "code",
   "execution_count": 10,
   "id": "c6b1ed50",
   "metadata": {},
   "outputs": [
    {
     "data": {
      "text/plain": [
       "5"
      ]
     },
     "execution_count": 10,
     "metadata": {},
     "output_type": "execute_result"
    }
   ],
   "source": [
    "import random\n",
    "random.randrange(1, 10, 2)"
   ]
  },
  {
   "cell_type": "code",
   "execution_count": 12,
   "id": "adc07d95",
   "metadata": {},
   "outputs": [
    {
     "name": "stdout",
     "output_type": "stream",
     "text": [
      "Random number is :  0.8197000691158766\n"
     ]
    }
   ],
   "source": [
    "import random\n",
    "print(\"Random number is : \", random.random())"
   ]
  },
  {
   "cell_type": "code",
   "execution_count": null,
   "id": "b94d3be2",
   "metadata": {},
   "outputs": [],
   "source": []
  }
 ],
 "metadata": {
  "kernelspec": {
   "display_name": "Python 3 (ipykernel)",
   "language": "python",
   "name": "python3"
  },
  "language_info": {
   "codemirror_mode": {
    "name": "ipython",
    "version": 3
   },
   "file_extension": ".py",
   "mimetype": "text/x-python",
   "name": "python",
   "nbconvert_exporter": "python",
   "pygments_lexer": "ipython3",
   "version": "3.9.12"
  }
 },
 "nbformat": 4,
 "nbformat_minor": 5
}
